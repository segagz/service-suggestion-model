{
 "cells": [
  {
   "cell_type": "markdown",
   "metadata": {},
   "source": [
    "# Introducción\n",
    "\n",
    "Con este proyecto mi objetivo es desarrollar un modelo que pueda analizar el comportamiento de los clientes y recomendar uno de los nuevos planes de Megaline.\n",
    "\n",
    "Observaré los datos de los clientes que heredaron sus planes y entrenaré un modelo a base de el comportamiento del cliente para hacerle una recomendación."
   ]
  },
  {
   "cell_type": "markdown",
   "metadata": {},
   "source": [
    "## 1 Voy a cargar las librerías y la tabla con la información de los clientes, además de ver la información de las mismas."
   ]
  },
  {
   "cell_type": "code",
   "execution_count": 1,
   "metadata": {},
   "outputs": [],
   "source": [
    "# Cargar librerías.\n",
    "\n",
    "from scipy import stats as st\n",
    "import pandas as pd\n",
    "from matplotlib import pyplot as plt\n",
    "import numpy as np\n",
    "import seaborn as sns\n",
    "import math\n",
    "from sklearn.model_selection import train_test_split\n",
    "from sklearn.metrics import mean_squared_error\n",
    "from sklearn.metrics import accuracy_score\n",
    "from sklearn.tree import DecisionTreeClassifier\n",
    "from sklearn.linear_model import LogisticRegression\n",
    "from sklearn.ensemble import RandomForestClassifier"
   ]
  },
  {
   "cell_type": "code",
   "execution_count": 2,
   "metadata": {},
   "outputs": [],
   "source": [
    "# Carga los datos en un DataFrame.\n",
    "\n",
    "users = pd.read_csv('/datasets/users_behavior.csv')"
   ]
  },
  {
   "cell_type": "code",
   "execution_count": 3,
   "metadata": {},
   "outputs": [
    {
     "data": {
      "text/html": [
       "<div>\n",
       "<style scoped>\n",
       "    .dataframe tbody tr th:only-of-type {\n",
       "        vertical-align: middle;\n",
       "    }\n",
       "\n",
       "    .dataframe tbody tr th {\n",
       "        vertical-align: top;\n",
       "    }\n",
       "\n",
       "    .dataframe thead th {\n",
       "        text-align: right;\n",
       "    }\n",
       "</style>\n",
       "<table border=\"1\" class=\"dataframe\">\n",
       "  <thead>\n",
       "    <tr style=\"text-align: right;\">\n",
       "      <th></th>\n",
       "      <th>calls</th>\n",
       "      <th>minutes</th>\n",
       "      <th>messages</th>\n",
       "      <th>mb_used</th>\n",
       "      <th>is_ultra</th>\n",
       "    </tr>\n",
       "  </thead>\n",
       "  <tbody>\n",
       "    <tr>\n",
       "      <th>0</th>\n",
       "      <td>40.0</td>\n",
       "      <td>311.90</td>\n",
       "      <td>83.0</td>\n",
       "      <td>19915.42</td>\n",
       "      <td>0</td>\n",
       "    </tr>\n",
       "    <tr>\n",
       "      <th>1</th>\n",
       "      <td>85.0</td>\n",
       "      <td>516.75</td>\n",
       "      <td>56.0</td>\n",
       "      <td>22696.96</td>\n",
       "      <td>0</td>\n",
       "    </tr>\n",
       "    <tr>\n",
       "      <th>2</th>\n",
       "      <td>77.0</td>\n",
       "      <td>467.66</td>\n",
       "      <td>86.0</td>\n",
       "      <td>21060.45</td>\n",
       "      <td>0</td>\n",
       "    </tr>\n",
       "    <tr>\n",
       "      <th>3</th>\n",
       "      <td>106.0</td>\n",
       "      <td>745.53</td>\n",
       "      <td>81.0</td>\n",
       "      <td>8437.39</td>\n",
       "      <td>1</td>\n",
       "    </tr>\n",
       "    <tr>\n",
       "      <th>4</th>\n",
       "      <td>66.0</td>\n",
       "      <td>418.74</td>\n",
       "      <td>1.0</td>\n",
       "      <td>14502.75</td>\n",
       "      <td>0</td>\n",
       "    </tr>\n",
       "    <tr>\n",
       "      <th>5</th>\n",
       "      <td>58.0</td>\n",
       "      <td>344.56</td>\n",
       "      <td>21.0</td>\n",
       "      <td>15823.37</td>\n",
       "      <td>0</td>\n",
       "    </tr>\n",
       "    <tr>\n",
       "      <th>6</th>\n",
       "      <td>57.0</td>\n",
       "      <td>431.64</td>\n",
       "      <td>20.0</td>\n",
       "      <td>3738.90</td>\n",
       "      <td>1</td>\n",
       "    </tr>\n",
       "    <tr>\n",
       "      <th>7</th>\n",
       "      <td>15.0</td>\n",
       "      <td>132.40</td>\n",
       "      <td>6.0</td>\n",
       "      <td>21911.60</td>\n",
       "      <td>0</td>\n",
       "    </tr>\n",
       "    <tr>\n",
       "      <th>8</th>\n",
       "      <td>7.0</td>\n",
       "      <td>43.39</td>\n",
       "      <td>3.0</td>\n",
       "      <td>2538.67</td>\n",
       "      <td>1</td>\n",
       "    </tr>\n",
       "    <tr>\n",
       "      <th>9</th>\n",
       "      <td>90.0</td>\n",
       "      <td>665.41</td>\n",
       "      <td>38.0</td>\n",
       "      <td>17358.61</td>\n",
       "      <td>0</td>\n",
       "    </tr>\n",
       "  </tbody>\n",
       "</table>\n",
       "</div>"
      ],
      "text/plain": [
       "   calls  minutes  messages   mb_used  is_ultra\n",
       "0   40.0   311.90      83.0  19915.42         0\n",
       "1   85.0   516.75      56.0  22696.96         0\n",
       "2   77.0   467.66      86.0  21060.45         0\n",
       "3  106.0   745.53      81.0   8437.39         1\n",
       "4   66.0   418.74       1.0  14502.75         0\n",
       "5   58.0   344.56      21.0  15823.37         0\n",
       "6   57.0   431.64      20.0   3738.90         1\n",
       "7   15.0   132.40       6.0  21911.60         0\n",
       "8    7.0    43.39       3.0   2538.67         1\n",
       "9   90.0   665.41      38.0  17358.61         0"
      ]
     },
     "execution_count": 3,
     "metadata": {},
     "output_type": "execute_result"
    }
   ],
   "source": [
    "# Mostrar parte del Dataframe\n",
    "\n",
    "users.head(10)"
   ]
  },
  {
   "cell_type": "code",
   "execution_count": 4,
   "metadata": {},
   "outputs": [
    {
     "data": {
      "text/html": [
       "<div>\n",
       "<style scoped>\n",
       "    .dataframe tbody tr th:only-of-type {\n",
       "        vertical-align: middle;\n",
       "    }\n",
       "\n",
       "    .dataframe tbody tr th {\n",
       "        vertical-align: top;\n",
       "    }\n",
       "\n",
       "    .dataframe thead th {\n",
       "        text-align: right;\n",
       "    }\n",
       "</style>\n",
       "<table border=\"1\" class=\"dataframe\">\n",
       "  <thead>\n",
       "    <tr style=\"text-align: right;\">\n",
       "      <th></th>\n",
       "      <th>calls</th>\n",
       "      <th>minutes</th>\n",
       "      <th>messages</th>\n",
       "      <th>mb_used</th>\n",
       "      <th>is_ultra</th>\n",
       "    </tr>\n",
       "  </thead>\n",
       "  <tbody>\n",
       "    <tr>\n",
       "      <th>count</th>\n",
       "      <td>3214.000000</td>\n",
       "      <td>3214.000000</td>\n",
       "      <td>3214.000000</td>\n",
       "      <td>3214.000000</td>\n",
       "      <td>3214.000000</td>\n",
       "    </tr>\n",
       "    <tr>\n",
       "      <th>mean</th>\n",
       "      <td>63.038892</td>\n",
       "      <td>438.208787</td>\n",
       "      <td>38.281269</td>\n",
       "      <td>17207.673836</td>\n",
       "      <td>0.306472</td>\n",
       "    </tr>\n",
       "    <tr>\n",
       "      <th>std</th>\n",
       "      <td>33.236368</td>\n",
       "      <td>234.569872</td>\n",
       "      <td>36.148326</td>\n",
       "      <td>7570.968246</td>\n",
       "      <td>0.461100</td>\n",
       "    </tr>\n",
       "    <tr>\n",
       "      <th>min</th>\n",
       "      <td>0.000000</td>\n",
       "      <td>0.000000</td>\n",
       "      <td>0.000000</td>\n",
       "      <td>0.000000</td>\n",
       "      <td>0.000000</td>\n",
       "    </tr>\n",
       "    <tr>\n",
       "      <th>25%</th>\n",
       "      <td>40.000000</td>\n",
       "      <td>274.575000</td>\n",
       "      <td>9.000000</td>\n",
       "      <td>12491.902500</td>\n",
       "      <td>0.000000</td>\n",
       "    </tr>\n",
       "    <tr>\n",
       "      <th>50%</th>\n",
       "      <td>62.000000</td>\n",
       "      <td>430.600000</td>\n",
       "      <td>30.000000</td>\n",
       "      <td>16943.235000</td>\n",
       "      <td>0.000000</td>\n",
       "    </tr>\n",
       "    <tr>\n",
       "      <th>75%</th>\n",
       "      <td>82.000000</td>\n",
       "      <td>571.927500</td>\n",
       "      <td>57.000000</td>\n",
       "      <td>21424.700000</td>\n",
       "      <td>1.000000</td>\n",
       "    </tr>\n",
       "    <tr>\n",
       "      <th>max</th>\n",
       "      <td>244.000000</td>\n",
       "      <td>1632.060000</td>\n",
       "      <td>224.000000</td>\n",
       "      <td>49745.730000</td>\n",
       "      <td>1.000000</td>\n",
       "    </tr>\n",
       "  </tbody>\n",
       "</table>\n",
       "</div>"
      ],
      "text/plain": [
       "             calls      minutes     messages       mb_used     is_ultra\n",
       "count  3214.000000  3214.000000  3214.000000   3214.000000  3214.000000\n",
       "mean     63.038892   438.208787    38.281269  17207.673836     0.306472\n",
       "std      33.236368   234.569872    36.148326   7570.968246     0.461100\n",
       "min       0.000000     0.000000     0.000000      0.000000     0.000000\n",
       "25%      40.000000   274.575000     9.000000  12491.902500     0.000000\n",
       "50%      62.000000   430.600000    30.000000  16943.235000     0.000000\n",
       "75%      82.000000   571.927500    57.000000  21424.700000     1.000000\n",
       "max     244.000000  1632.060000   224.000000  49745.730000     1.000000"
      ]
     },
     "execution_count": 4,
     "metadata": {},
     "output_type": "execute_result"
    }
   ],
   "source": [
    "users.describe()"
   ]
  },
  {
   "cell_type": "code",
   "execution_count": 5,
   "metadata": {},
   "outputs": [
    {
     "name": "stdout",
     "output_type": "stream",
     "text": [
      "Empty DataFrame\n",
      "Columns: [calls, minutes, messages, mb_used, is_ultra]\n",
      "Index: []\n"
     ]
    }
   ],
   "source": [
    "# Ver si hay duplicados\n",
    "\n",
    "print(users[users.duplicated()])"
   ]
  },
  {
   "cell_type": "code",
   "execution_count": 6,
   "metadata": {},
   "outputs": [
    {
     "name": "stdout",
     "output_type": "stream",
     "text": [
      "<class 'pandas.core.frame.DataFrame'>\n",
      "RangeIndex: 3214 entries, 0 to 3213\n",
      "Data columns (total 5 columns):\n",
      " #   Column    Non-Null Count  Dtype  \n",
      "---  ------    --------------  -----  \n",
      " 0   calls     3214 non-null   float64\n",
      " 1   minutes   3214 non-null   float64\n",
      " 2   messages  3214 non-null   float64\n",
      " 3   mb_used   3214 non-null   float64\n",
      " 4   is_ultra  3214 non-null   int64  \n",
      "dtypes: float64(4), int64(1)\n",
      "memory usage: 125.7 KB\n"
     ]
    }
   ],
   "source": [
    "# Ver si hay valores nulos\n",
    "\n",
    "users.info()"
   ]
  },
  {
   "cell_type": "markdown",
   "metadata": {},
   "source": [
    "## 2 Comenzaré a usar el dataset para entrenar los diferentes modelos y medir su exactitud."
   ]
  },
  {
   "cell_type": "code",
   "execution_count": 11,
   "metadata": {},
   "outputs": [],
   "source": [
    "# Segmentar el Dataframe en el de entrenamiento y validación\n",
    "\n",
    "features= users.drop(['is_ultra'], axis=1)\n",
    "target= users['is_ultra']\n",
    "\n",
    "\n",
    "\n",
    "features_train, features_test, target_train, target_test = train_test_split(features, target, test_size=0.2, random_state=54321)\n",
    "features_train, features_val, target_train, target_val = train_test_split(features_train, target_train, test_size=0.2, random_state=54321)\n",
    "\n",
    "\n",
    "\n"
   ]
  },
  {
   "cell_type": "code",
   "execution_count": 12,
   "metadata": {},
   "outputs": [
    {
     "name": "stdout",
     "output_type": "stream",
     "text": [
      "Exactitud de max_depth igual a 1\n",
      "Conjunto de entrenamiento: 0.752644679527069\n",
      "Conjunto de prueba: 0.7247278382581649\n",
      "Exactitud de max_depth igual a 2\n",
      "Conjunto de entrenamiento: 0.7840696950840075\n",
      "Conjunto de prueba: 0.7620528771384136\n",
      "Exactitud de max_depth igual a 3\n",
      "Conjunto de entrenamiento: 0.798070939639079\n",
      "Conjunto de prueba: 0.7698289269051322\n",
      "Exactitud de max_depth igual a 4\n",
      "Conjunto de entrenamiento: 0.7999377722464219\n",
      "Conjunto de prueba: 0.7713841368584758\n",
      "Exactitud de max_depth igual a 5\n",
      "Conjunto de entrenamiento: 0.8170504044803982\n",
      "Conjunto de prueba: 0.7978227060653188\n",
      "Exactitud de max_depth igual a 6\n",
      "Conjunto de entrenamiento: 0.827317983820784\n",
      "Conjunto de prueba: 0.8040435458786936\n",
      "Exactitud de max_depth igual a 7\n",
      "Conjunto de entrenamiento: 0.8397635345364033\n",
      "Conjunto de prueba: 0.807153965785381\n",
      "Exactitud de max_depth igual a 8\n",
      "Conjunto de entrenamiento: 0.8550093341630367\n",
      "Conjunto de prueba: 0.8242612752721618\n",
      "Exactitud de max_depth igual a 9\n",
      "Conjunto de entrenamiento: 0.8637212196639701\n",
      "Conjunto de prueba: 0.8304821150855366\n",
      "Exactitud de max_depth igual a 10\n",
      "Conjunto de entrenamiento: 0.8718108276291225\n",
      "Conjunto de prueba: 0.8367029548989113\n",
      "\n",
      "Conjunto de validación: 0.887378640776699\n"
     ]
    }
   ],
   "source": [
    "# Entrenamiento del modelo de árbol de decisión y ver su exactitud.\n",
    "\n",
    "best_depth = 0\n",
    "best_score = 0\n",
    "for depth in range(1, 11):  # selecciona el rango del hiperparámetro\n",
    "    model = DecisionTreeClassifier(random_state=54321, max_depth = depth)\n",
    "    model.fit(features, target)\n",
    "    train_predictions = model.predict(features)\n",
    "    test_predictions = model.predict(features_test)\n",
    "   \n",
    "    print(\"Exactitud de max_depth igual a\", depth)\n",
    "    print(\"Conjunto de entrenamiento:\", accuracy_score(target, train_predictions)) # calcula la puntuación de accuracy en el conjunto de entrenamiento\n",
    "    print(\"Conjunto de prueba:\", accuracy_score(target_test, test_predictions)) # calcula la puntuación de accuracy en el conjunto de prueba\n",
    "    \n",
    "print()\n",
    "\n",
    "model = DecisionTreeClassifier(random_state=54321, max_depth = 10)\n",
    "model.fit(features, target)\n",
    "val_predictions = model.predict(features_val)\n",
    "print(\"Conjunto de validación:\", accuracy_score(target_val, val_predictions))"
   ]
  },
  {
   "cell_type": "code",
   "execution_count": 13,
   "metadata": {},
   "outputs": [
    {
     "name": "stdout",
     "output_type": "stream",
     "text": [
      "Accuracy del modelo de regresión logística en el conjunto de entrenamiento: 0.7426882389545737\n",
      "Accuracy del modelo de regresión logística en el conjunto de validación: 0.7060653188180405\n",
      "Accuracy del modelo de regresión logística en el conjunto de prueba: 0.7514563106796116\n"
     ]
    }
   ],
   "source": [
    "# Entrenamiento del modelo de regresión logística con su prueba de exactitud.\n",
    "\n",
    "model = LogisticRegression(random_state=54321, solver='liblinear') # inicializa el constructor de regresión logística con los parámetros random_state=54321 y solver='liblinear'\n",
    "model.fit(features, target) # entrena el modelo en el conjunto de entrenamiento\n",
    "score_train = model.score(features, target) # calcula la puntuación de accuracy en el conjunto de entrenamiento\n",
    "score_valid = model.score(features_test, target_test) # calcula la puntuación de accuracy en el conjunto de validación\n",
    "score_test = model.score(features_val, target_val)\n",
    "print(\"Accuracy del modelo de regresión logística en el conjunto de entrenamiento:\", score_train)\n",
    "print(\"Accuracy del modelo de regresión logística en el conjunto de prueba:\", score_valid)\n",
    "print(\"Accuracy del modelo de regresión logística en el conjunto de validación:\", score_test)"
   ]
  },
  {
   "cell_type": "code",
   "execution_count": 19,
   "metadata": {},
   "outputs": [
    {
     "name": "stdout",
     "output_type": "stream",
     "text": [
      "La exactitud del mejor modelo en el conjunto de prueba (n_estimators = 9): 0.9782270606531882\n",
      "La exactitud del mejor modelo en el conjunto de validación (n_estimators = 9): 0.9902912621359223\n"
     ]
    }
   ],
   "source": [
    "# Entrenamiento del modelo de árboles aleatorios con su prueba de exactitud.\n",
    "best_score = 0\n",
    "best_est = 0\n",
    "for est in range(1, 11): # selecciona el rango del hiperparámetro\n",
    "    model = RandomForestClassifier(random_state=54321, n_estimators=est) # configura el número de árboles\n",
    "    model.fit(features, target) # entrena el modelo en el conjunto de entrenamiento\n",
    "    score = model.score(features_test, target_test) # calcula la puntuación de accuracy en el conjunto de validación\n",
    "    if score > best_score:\n",
    "        best_score = score # guarda la mejor puntuación de accuracy en el conjunto de validación\n",
    "        best_est = est # guarda el número de estimadores que corresponden a la mejor puntuación de exactitud\n",
    "\n",
    "        \n",
    "model = RandomForestClassifier(random_state=54321, n_estimators=9) # configura el número de árboles\n",
    "model.fit(features, target) # entrena el modelo en el conjunto de entrenamiento\n",
    "score = model.score(features_val, target_val) # calcula la puntuación de accuracy en el conjunto de validación\n",
    "print(\"La exactitud del mejor modelo en el conjunto de prueba (n_estimators = {}): {}\".format(best_est, best_score))\n",
    "print(\"La exactitud del mejor modelo en el conjunto de validación (n_estimators = 9):\", score)"
   ]
  },
  {
   "cell_type": "markdown",
   "metadata": {},
   "source": [
    "## 3 Conclusión general\n",
    "\n",
    "En este punto observando las diferentes puntaciones en la exactitud, determino que el modelo con mejor puntuación de exactitud para clasificar a los clientes en el plan más conveniente es el de árboles aleatorios, en este caso al ser un modelo que busca clasificar entre dos planes ocupé los modelos que se usan para clasificar y no para la regresión."
   ]
  },
  {
   "cell_type": "code",
   "execution_count": null,
   "metadata": {},
   "outputs": [],
   "source": []
  }
 ],
 "metadata": {
  "kernelspec": {
   "display_name": "Python 3 (ipykernel)",
   "language": "python",
   "name": "python3"
  },
  "language_info": {
   "codemirror_mode": {
    "name": "ipython",
    "version": 3
   },
   "file_extension": ".py",
   "mimetype": "text/x-python",
   "name": "python",
   "nbconvert_exporter": "python",
   "pygments_lexer": "ipython3",
   "version": "3.9.19"
  },
  "toc": {
   "base_numbering": 1,
   "nav_menu": {},
   "number_sections": true,
   "sideBar": true,
   "skip_h1_title": true,
   "title_cell": "Table of Contents",
   "title_sidebar": "Contents",
   "toc_cell": false,
   "toc_position": {},
   "toc_section_display": true,
   "toc_window_display": false
  }
 },
 "nbformat": 4,
 "nbformat_minor": 2
}
